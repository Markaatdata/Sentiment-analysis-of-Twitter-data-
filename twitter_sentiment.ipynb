{
 "cells": [
  {
   "cell_type": "markdown",
   "id": "08c74b42-2e76-435d-8f1c-50199f3a8505",
   "metadata": {},
   "source": [
    "# Twitter Sentiment Analysis"
   ]
  },
  {
   "cell_type": "code",
   "execution_count": 4,
   "id": "a1aa96ff-7d2a-44ef-9626-2fea87fcd3d7",
   "metadata": {},
   "outputs": [],
   "source": [
    "import tweepy\n",
    "import pandas as pd\n",
    "import textblob as tb\n",
    "\n",
    "from textblob import TextBlob"
   ]
  },
  {
   "cell_type": "markdown",
   "id": "d4ea2973-d813-41dd-a4f8-a1d54e63554d",
   "metadata": {},
   "source": [
    "## Import CSV"
   ]
  },
  {
   "cell_type": "code",
   "execution_count": 58,
   "id": "2a1cd7ab-3e1a-4171-8149-080e827712f1",
   "metadata": {},
   "outputs": [
    {
     "data": {
      "text/html": [
       "<div>\n",
       "<style scoped>\n",
       "    .dataframe tbody tr th:only-of-type {\n",
       "        vertical-align: middle;\n",
       "    }\n",
       "\n",
       "    .dataframe tbody tr th {\n",
       "        vertical-align: top;\n",
       "    }\n",
       "\n",
       "    .dataframe thead th {\n",
       "        text-align: right;\n",
       "    }\n",
       "</style>\n",
       "<table border=\"1\" class=\"dataframe\">\n",
       "  <thead>\n",
       "    <tr style=\"text-align: right;\">\n",
       "      <th></th>\n",
       "      <th>id</th>\n",
       "      <th>time</th>\n",
       "      <th>tweet</th>\n",
       "    </tr>\n",
       "  </thead>\n",
       "  <tbody>\n",
       "    <tr>\n",
       "      <th>0</th>\n",
       "      <td>1525264393637974016</td>\n",
       "      <td>2022-05-13 23:59:04+00:00</td>\n",
       "      <td>Elon Musk's acquisition of Twitter is on hold ...</td>\n",
       "    </tr>\n",
       "    <tr>\n",
       "      <th>1</th>\n",
       "      <td>1525263058070777856</td>\n",
       "      <td>2022-05-13 23:53:45+00:00</td>\n",
       "      <td>\"This is probably a negotiation tactic\" by Elo...</td>\n",
       "    </tr>\n",
       "    <tr>\n",
       "      <th>2</th>\n",
       "      <td>1525263025627865088</td>\n",
       "      <td>2022-05-13 23:53:37+00:00</td>\n",
       "      <td>Contracts be contracts. Musk’s tweets don’t ch...</td>\n",
       "    </tr>\n",
       "    <tr>\n",
       "      <th>3</th>\n",
       "      <td>1525262835584061440</td>\n",
       "      <td>2022-05-13 23:52:52+00:00</td>\n",
       "      <td>Psaki is asked about Elon Musk saying that his...</td>\n",
       "    </tr>\n",
       "    <tr>\n",
       "      <th>4</th>\n",
       "      <td>1525262671913791490</td>\n",
       "      <td>2022-05-13 23:52:13+00:00</td>\n",
       "      <td>Elon said his corporate takeover of Twitter is...</td>\n",
       "    </tr>\n",
       "  </tbody>\n",
       "</table>\n",
       "</div>"
      ],
      "text/plain": [
       "                    id                       time  \\\n",
       "0  1525264393637974016  2022-05-13 23:59:04+00:00   \n",
       "1  1525263058070777856  2022-05-13 23:53:45+00:00   \n",
       "2  1525263025627865088  2022-05-13 23:53:37+00:00   \n",
       "3  1525262835584061440  2022-05-13 23:52:52+00:00   \n",
       "4  1525262671913791490  2022-05-13 23:52:13+00:00   \n",
       "\n",
       "                                               tweet  \n",
       "0  Elon Musk's acquisition of Twitter is on hold ...  \n",
       "1  \"This is probably a negotiation tactic\" by Elo...  \n",
       "2  Contracts be contracts. Musk’s tweets don’t ch...  \n",
       "3  Psaki is asked about Elon Musk saying that his...  \n",
       "4  Elon said his corporate takeover of Twitter is...  "
      ]
     },
     "execution_count": 58,
     "metadata": {},
     "output_type": "execute_result"
    }
   ],
   "source": [
    "file_path = #see your path & the other ipynb-file in this repository for getting the data from Twitter API to CSV\n",
    "\n",
    "df = pd.read_csv(file_path, sep=';')\n",
    "\n",
    "df.head()"
   ]
  },
  {
   "cell_type": "markdown",
   "id": "d3d62820-7506-4720-8f16-7cde5f7f6241",
   "metadata": {},
   "source": [
    "## Sentiment Analysis"
   ]
  },
  {
   "cell_type": "code",
   "execution_count": 59,
   "id": "4265a3a1-40e0-4755-b9e0-8a3d74e69199",
   "metadata": {},
   "outputs": [
    {
     "name": "stdout",
     "output_type": "stream",
     "text": [
      "\"This is probably a negotiation tactic\" by Elon Musk, Bernstein Senior Research Analyst Toni Sacconaghi told  on Friday. \"The market has come down a lot. He's probably using the guise of true active users as a negotiation ploy.\"   \n"
     ]
    }
   ],
   "source": [
    "# Test for 1 tweet\n",
    "\n",
    "test = TextBlob(df.iloc[1,2])\n",
    "print(test)"
   ]
  },
  {
   "cell_type": "code",
   "execution_count": 60,
   "id": "f5eea249-e8e0-4119-a85b-3c4a322de438",
   "metadata": {},
   "outputs": [
    {
     "name": "stdout",
     "output_type": "stream",
     "text": [
      "Text:  \"This is probably a negotiation tactic\" by Elon Musk, Bernstein Senior Research Analyst Toni Sacconaghi told  on Friday. \"The market has come down a lot. He's probably using the guise of true active users as a negotiation ploy.\"    \n",
      "Polarity:  0.020370370370370355 \n",
      "Subjectivity:  0.512962962962963\n"
     ]
    }
   ],
   "source": [
    "# -1.0 = negative and 1,0 = positive\n",
    "polarity = test.sentiment.polarity\n",
    "\n",
    "# 0.0 = objectiv and 1.0 = subjectiv\n",
    "subjectivity = test.sentiment.subjectivity\n",
    "\n",
    "print(\"Text: \", test, \"\\n\" +\n",
    "     \"Polarity: \", polarity, \"\\n\" +\n",
    "     \"Subjectivity: \", subjectivity)"
   ]
  },
  {
   "cell_type": "code",
   "execution_count": 61,
   "id": "ef0755a6-779d-43bf-af4e-0cf96edca5f3",
   "metadata": {},
   "outputs": [
    {
     "data": {
      "text/html": [
       "<div>\n",
       "<style scoped>\n",
       "    .dataframe tbody tr th:only-of-type {\n",
       "        vertical-align: middle;\n",
       "    }\n",
       "\n",
       "    .dataframe tbody tr th {\n",
       "        vertical-align: top;\n",
       "    }\n",
       "\n",
       "    .dataframe thead th {\n",
       "        text-align: right;\n",
       "    }\n",
       "</style>\n",
       "<table border=\"1\" class=\"dataframe\">\n",
       "  <thead>\n",
       "    <tr style=\"text-align: right;\">\n",
       "      <th></th>\n",
       "      <th>id</th>\n",
       "      <th>time</th>\n",
       "      <th>tweet</th>\n",
       "      <th>polarity</th>\n",
       "      <th>subjectivity</th>\n",
       "    </tr>\n",
       "  </thead>\n",
       "  <tbody>\n",
       "    <tr>\n",
       "      <th>0</th>\n",
       "      <td>1525264393637974016</td>\n",
       "      <td>2022-05-13 23:59:04+00:00</td>\n",
       "      <td>Elon Musk's acquisition of Twitter is on hold ...</td>\n",
       "      <td>0.50000</td>\n",
       "      <td>0.500000</td>\n",
       "    </tr>\n",
       "    <tr>\n",
       "      <th>1</th>\n",
       "      <td>1525263058070777856</td>\n",
       "      <td>2022-05-13 23:53:45+00:00</td>\n",
       "      <td>\"This is probably a negotiation tactic\" by Elo...</td>\n",
       "      <td>0.02037</td>\n",
       "      <td>0.512963</td>\n",
       "    </tr>\n",
       "    <tr>\n",
       "      <th>2</th>\n",
       "      <td>1525263025627865088</td>\n",
       "      <td>2022-05-13 23:53:37+00:00</td>\n",
       "      <td>Contracts be contracts. Musk’s tweets don’t ch...</td>\n",
       "      <td>0.00000</td>\n",
       "      <td>0.000000</td>\n",
       "    </tr>\n",
       "    <tr>\n",
       "      <th>3</th>\n",
       "      <td>1525262835584061440</td>\n",
       "      <td>2022-05-13 23:52:52+00:00</td>\n",
       "      <td>Psaki is asked about Elon Musk saying that his...</td>\n",
       "      <td>0.07753</td>\n",
       "      <td>0.331399</td>\n",
       "    </tr>\n",
       "    <tr>\n",
       "      <th>4</th>\n",
       "      <td>1525262671913791490</td>\n",
       "      <td>2022-05-13 23:52:13+00:00</td>\n",
       "      <td>Elon said his corporate takeover of Twitter is...</td>\n",
       "      <td>0.23750</td>\n",
       "      <td>0.468750</td>\n",
       "    </tr>\n",
       "  </tbody>\n",
       "</table>\n",
       "</div>"
      ],
      "text/plain": [
       "                    id                       time  \\\n",
       "0  1525264393637974016  2022-05-13 23:59:04+00:00   \n",
       "1  1525263058070777856  2022-05-13 23:53:45+00:00   \n",
       "2  1525263025627865088  2022-05-13 23:53:37+00:00   \n",
       "3  1525262835584061440  2022-05-13 23:52:52+00:00   \n",
       "4  1525262671913791490  2022-05-13 23:52:13+00:00   \n",
       "\n",
       "                                               tweet  polarity  subjectivity  \n",
       "0  Elon Musk's acquisition of Twitter is on hold ...   0.50000      0.500000  \n",
       "1  \"This is probably a negotiation tactic\" by Elo...   0.02037      0.512963  \n",
       "2  Contracts be contracts. Musk’s tweets don’t ch...   0.00000      0.000000  \n",
       "3  Psaki is asked about Elon Musk saying that his...   0.07753      0.331399  \n",
       "4  Elon said his corporate takeover of Twitter is...   0.23750      0.468750  "
      ]
     },
     "execution_count": 61,
     "metadata": {},
     "output_type": "execute_result"
    }
   ],
   "source": [
    "# Results for all tweets within the dataframe\n",
    "\n",
    "df[\"polarity\"] = df[\"tweet\"].map(lambda tweet: TextBlob(tweet).sentiment.polarity)\n",
    "\n",
    "df[\"subjectivity\"] = df[\"tweet\"].map(lambda tweet: TextBlob(tweet).sentiment.subjectivity)\n",
    "\n",
    "df.head()"
   ]
  },
  {
   "cell_type": "markdown",
   "id": "c36b8088-85e5-468c-8869-bd9b20184a97",
   "metadata": {},
   "source": [
    "## Get Results as CSV"
   ]
  },
  {
   "cell_type": "code",
   "execution_count": 62,
   "id": "c0f272c5-7d2a-45ea-a146-6b7f2c0bf351",
   "metadata": {},
   "outputs": [],
   "source": [
    "df.to_csv('sentiment_twitter_verified_tweets.csv', index=False, sep=';')"
   ]
  },
  {
   "cell_type": "code",
   "execution_count": null,
   "id": "362ce568-fc74-4361-9229-e54664b01a34",
   "metadata": {},
   "outputs": [],
   "source": []
  }
 ],
 "metadata": {
  "kernelspec": {
   "display_name": "Python 3",
   "language": "python",
   "name": "python3"
  },
  "language_info": {
   "codemirror_mode": {
    "name": "ipython",
    "version": 3
   },
   "file_extension": ".py",
   "mimetype": "text/x-python",
   "name": "python",
   "nbconvert_exporter": "python",
   "pygments_lexer": "ipython3",
   "version": "3.8.8"
  }
 },
 "nbformat": 4,
 "nbformat_minor": 5
}
