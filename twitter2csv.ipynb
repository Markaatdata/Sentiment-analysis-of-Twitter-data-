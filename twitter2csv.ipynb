{
 "cells": [
  {
   "cell_type": "markdown",
   "id": "060f07ac-44c2-4f84-83cc-e958229cf1eb",
   "metadata": {},
   "source": [
    "# Twitter API V2 with Tweepy"
   ]
  },
  {
   "cell_type": "code",
   "execution_count": 59,
   "id": "d150c25a-2632-4b02-8233-79c5de11f065",
   "metadata": {},
   "outputs": [],
   "source": [
    "import tweepy\n",
    "import pandas as pd\n",
    "import re"
   ]
  },
  {
   "cell_type": "markdown",
   "id": "f00ea57b-ef99-4759-ba3c-f1fc130a06b7",
   "metadata": {},
   "source": [
    "## Connect to API"
   ]
  },
  {
   "cell_type": "code",
   "execution_count": 55,
   "id": "eda17027-2dab-47ed-b18e-a6b8d1aca625",
   "metadata": {},
   "outputs": [],
   "source": [
    "# authorization\n",
    "\n",
    "my_bearer_token = #Apply for Twitter API Access\n",
    "\n",
    "api = tweepy.Client(bearer_token = my_bearer_token)"
   ]
  },
  {
   "cell_type": "markdown",
   "id": "e45a492b-ecd9-4d4e-9fbe-6c2015a174d0",
   "metadata": {},
   "source": [
    "## Collect Tweets from API"
   ]
  },
  {
   "cell_type": "code",
   "execution_count": 56,
   "id": "be167e9a-f271-467f-aa78-1bdd0f5581fe",
   "metadata": {},
   "outputs": [],
   "source": [
    "# parameters for API request\n",
    "\n",
    "search_term = \"Pfizer\"\n",
    "\n",
    "query = f'{search_term} lang:en -is:retweet -is:reply'\n",
    "\n",
    "# query = f'{search_term} lang:en -is:retweet -is:reply is:verified'\n",
    "\n",
    "start_time = '2022-05-03T00:00:00Z'\n",
    "\n",
    "end_time = '2022-05-05T00:00:00Z'"
   ]
  },
  {
   "cell_type": "code",
   "execution_count": 57,
   "id": "f1275f15-40f8-4205-bdda-e3ada88a8967",
   "metadata": {},
   "outputs": [],
   "source": [
    "tweets = tweepy.Paginator(api.search_recent_tweets,\n",
    "                          query=query,\n",
    "                          tweet_fields=['created_at', 'text'],\n",
    "                          start_time=start_time,\n",
    "                          end_time=end_time,\n",
    "                          max_results=100).flatten(limit=10000)"
   ]
  },
  {
   "cell_type": "code",
   "execution_count": null,
   "id": "fe7d1605-8730-4550-816c-a4b0cfedc2dd",
   "metadata": {},
   "outputs": [],
   "source": [
    "# somehow breaks the code if run twice\n",
    "for tweet in tweets:\n",
    "    print(tweet.id, tweet.created_at, tweet.text)"
   ]
  },
  {
   "cell_type": "markdown",
   "id": "072c200d-8374-47c6-bbd0-6278becd9758",
   "metadata": {},
   "source": [
    "## Insert Tweets into CSV"
   ]
  },
  {
   "cell_type": "code",
   "execution_count": 58,
   "id": "0751c927-4f3e-4934-99c5-d788fec5d77f",
   "metadata": {},
   "outputs": [
    {
     "data": {
      "text/html": [
       "<div>\n",
       "<style scoped>\n",
       "    .dataframe tbody tr th:only-of-type {\n",
       "        vertical-align: middle;\n",
       "    }\n",
       "\n",
       "    .dataframe tbody tr th {\n",
       "        vertical-align: top;\n",
       "    }\n",
       "\n",
       "    .dataframe thead th {\n",
       "        text-align: right;\n",
       "    }\n",
       "</style>\n",
       "<table border=\"1\" class=\"dataframe\">\n",
       "  <thead>\n",
       "    <tr style=\"text-align: right;\">\n",
       "      <th></th>\n",
       "      <th>id</th>\n",
       "      <th>time</th>\n",
       "      <th>tweet</th>\n",
       "    </tr>\n",
       "  </thead>\n",
       "  <tbody>\n",
       "    <tr>\n",
       "      <th>0</th>\n",
       "      <td>1522003018878648321</td>\n",
       "      <td>2022-05-04 23:59:31+00:00</td>\n",
       "      <td>Gotta wonder if the #pfizer, #cdc, and #fda em...</td>\n",
       "    </tr>\n",
       "    <tr>\n",
       "      <th>1</th>\n",
       "      <td>1522002972057690113</td>\n",
       "      <td>2022-05-04 23:59:20+00:00</td>\n",
       "      <td>The Pfizer adverse reaction report is a bombsh...</td>\n",
       "    </tr>\n",
       "    <tr>\n",
       "      <th>2</th>\n",
       "      <td>1522002872803770374</td>\n",
       "      <td>2022-05-04 23:58:56+00:00</td>\n",
       "      <td>Post all these Pfizer docs on Facebook and Tik...</td>\n",
       "    </tr>\n",
       "    <tr>\n",
       "      <th>3</th>\n",
       "      <td>1522002851228176385</td>\n",
       "      <td>2022-05-04 23:58:51+00:00</td>\n",
       "      <td>I had reactions to my Pfizer jabs, chose not t...</td>\n",
       "    </tr>\n",
       "    <tr>\n",
       "      <th>4</th>\n",
       "      <td>1522002827601747968</td>\n",
       "      <td>2022-05-04 23:58:46+00:00</td>\n",
       "      <td>Naomi Wolf: The Continued Uncovering of the Pf...</td>\n",
       "    </tr>\n",
       "  </tbody>\n",
       "</table>\n",
       "</div>"
      ],
      "text/plain": [
       "                    id                      time  \\\n",
       "0  1522003018878648321 2022-05-04 23:59:31+00:00   \n",
       "1  1522002972057690113 2022-05-04 23:59:20+00:00   \n",
       "2  1522002872803770374 2022-05-04 23:58:56+00:00   \n",
       "3  1522002851228176385 2022-05-04 23:58:51+00:00   \n",
       "4  1522002827601747968 2022-05-04 23:58:46+00:00   \n",
       "\n",
       "                                               tweet  \n",
       "0  Gotta wonder if the #pfizer, #cdc, and #fda em...  \n",
       "1  The Pfizer adverse reaction report is a bombsh...  \n",
       "2  Post all these Pfizer docs on Facebook and Tik...  \n",
       "3  I had reactions to my Pfizer jabs, chose not t...  \n",
       "4  Naomi Wolf: The Continued Uncovering of the Pf...  "
      ]
     },
     "execution_count": 58,
     "metadata": {},
     "output_type": "execute_result"
    }
   ],
   "source": [
    "columns = ['id', 'time', 'tweet']\n",
    "\n",
    "data = []\n",
    "\n",
    "for tweet in tweets:\n",
    "    data.append([tweet.id, tweet.created_at, tweet.text])\n",
    "    \n",
    "df = pd.DataFrame(data, columns=columns)\n",
    "\n",
    "df.head()"
   ]
  },
  {
   "cell_type": "code",
   "execution_count": 60,
   "id": "3c102f81-70d9-4549-a644-a683c4534279",
   "metadata": {},
   "outputs": [],
   "source": [
    "X_raw = df\n",
    "X1 = X_raw.replace(re.compile(r'http\\S+'), '')\n",
    "X2 = X1.replace(re.compile(r'@\\S+'), '')\n",
    "X3 = X2.replace(re.compile(r'#'), '')\n",
    "X4 = X3.replace(re.compile(r'\\\\n'), ' ')"
   ]
  },
  {
   "cell_type": "code",
   "execution_count": 62,
   "id": "48d34f3a-63e2-44ad-9a2d-0f43f37a658b",
   "metadata": {},
   "outputs": [],
   "source": [
    "# Store Tweets in CSV\n",
    "\n",
    "X4.to_csv(f'{search_term}_tweets.csv', index=False, sep=';')"
   ]
  },
  {
   "cell_type": "code",
   "execution_count": null,
   "id": "643577f7-6509-4e26-b1b2-1618d1f0f6aa",
   "metadata": {},
   "outputs": [],
   "source": []
  }
 ],
 "metadata": {
  "kernelspec": {
   "display_name": "Python 3",
   "language": "python",
   "name": "python3"
  },
  "language_info": {
   "codemirror_mode": {
    "name": "ipython",
    "version": 3
   },
   "file_extension": ".py",
   "mimetype": "text/x-python",
   "name": "python",
   "nbconvert_exporter": "python",
   "pygments_lexer": "ipython3",
   "version": "3.8.8"
  }
 },
 "nbformat": 4,
 "nbformat_minor": 5
}
